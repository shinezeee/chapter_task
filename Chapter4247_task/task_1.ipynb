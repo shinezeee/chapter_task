{
 "cells": [
  {
   "cell_type": "markdown",
   "metadata": {},
   "source": [
    "[문제]\n",
    "\n",
    "'Person'이라는 클래스를 선언하세요. 이 클래스는 name (이름)과 age (나이) 두 개의 속성을 갖습니다.<br>\n",
    "\n",
    "그리고 'greet'라는 메소드를 갖고 있으며, 이 메소드는 \"안녕하세요, 제 이름은 [name]입니다. \n",
    "\n",
    "나이는 [age]살입니다.\"라는 메시지를 반환합니다.<br>\n",
    "이 클래스를 사용하여 '홍길동'이라는 이름과 20살의 나이를 가진 'Person' 객체를 생성하고, 'greet' 메소드를 호출하여 메시지를 출력하세요."
   ]
  },
  {
   "cell_type": "code",
   "execution_count": null,
   "metadata": {},
   "outputs": [
    {
     "name": "stdout",
     "output_type": "stream",
     "text": [
      "안녕하세요 , 제 이름은 홍길동입니다. 나이는20살 입니다.\n"
     ]
    }
   ],
   "source": [
    "class Person : #Persom 클래스 선언\n",
    "    def __init__(self,name,age) : # 이름 나이 설정\n",
    "        self.name = name #속성1 :이름\n",
    "        self.age = age #속성2 :나이\n",
    "\n",
    "    def greet (self): #greet 메소드 생성\n",
    "        return f\"안녕하세요 , 제 이름은 {self.name}입니다. 나이는{self.age}살 입니다.\"\n",
    "    \n",
    "person = Person(\"홍길동\",20) # 객체 생성\n",
    "\n",
    "print(person.greet()) #메소드 호출해서 출력"
   ]
  },
  {
   "cell_type": "markdown",
   "metadata": {},
   "source": []
  }
 ],
 "metadata": {
  "kernelspec": {
   "display_name": "Python 3",
   "language": "python",
   "name": "python3"
  },
  "language_info": {
   "codemirror_mode": {
    "name": "ipython",
    "version": 3
   },
   "file_extension": ".py",
   "mimetype": "text/x-python",
   "name": "python",
   "nbconvert_exporter": "python",
   "pygments_lexer": "ipython3",
   "version": "3.9.6"
  }
 },
 "nbformat": 4,
 "nbformat_minor": 2
}
