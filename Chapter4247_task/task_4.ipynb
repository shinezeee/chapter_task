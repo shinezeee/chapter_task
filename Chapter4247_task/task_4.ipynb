{
 "cells": [
  {
   "cell_type": "markdown",
   "metadata": {},
   "source": [
    "[문제] \n",
    "\n",
    "'Employee' 클래스를 선언하세요. \n",
    "\n",
    "이 클래스는 월급인상률을 의미하는 클래스 변수로 'raise_amount'를 갖고 있으며, 기본값은 1.04입니다. 다음 급여는 기본 급여에 월급인상률을 곱한 값으로 결정합니다.\n",
    "\n",
    "또한, 각 직원의 이름(name)과 급여(salary)를 속성으로 가지며, 'apply_raise' 메소드를 통해 급여에 'raise_amount'를 적용할 수 있어야 합니다.\n",
    "\n",
    "'Employee' 클래스의 객체 두 개를 생성하고, 한 객체에만 'raise_amount'를 변경한 후, 두 객체의 급여를 증가시켜보세요.<br>\n",
    "그리고 각 객체의 새로운 급여를 출력하세요."
   ]
  },
  {
   "cell_type": "code",
   "execution_count": null,
   "metadata": {},
   "outputs": [
    {
     "name": "stdout",
     "output_type": "stream",
     "text": [
      "2400000\n",
      "2500000\n"
     ]
    }
   ],
   "source": [
    "class Employee :\n",
    "\n",
    "    raise_amount = 1.04 # 클래스변수 급여인상률\n",
    "\n",
    "    def __init__ (self,name,salary):\n",
    "        self.name =name #이름\n",
    "        self.salary = salary #급여\n",
    "\n",
    "    def apply_raise (self): #다음 급여 \n",
    "        self.salary = int(self.salary * self.raise_amount) #객체 속성 중 급여 * # 클래스변수 \n",
    "\n",
    "employee_1 = Employee (\"신혜지\",2_000_000) #객체 1,2 생성\n",
    "employee_2 = Employee (\"김오즈\",2_500_000)\n",
    "\n",
    "Employee.raise_amount = 1.2 \n",
    "employee_1.apply_raise() #객체 1에만 급여인상 변경 \n",
    "\n",
    "print(employee_1.salary)\n",
    "print(employee_2.salary)"
   ]
  },
  {
   "cell_type": "markdown",
   "metadata": {},
   "source": []
  },
  {
   "cell_type": "code",
   "execution_count": null,
   "metadata": {},
   "outputs": [],
   "source": []
  },
  {
   "cell_type": "markdown",
   "metadata": {},
   "source": []
  }
 ],
 "metadata": {
  "kernelspec": {
   "display_name": "Python 3",
   "language": "python",
   "name": "python3"
  },
  "language_info": {
   "codemirror_mode": {
    "name": "ipython",
    "version": 3
   },
   "file_extension": ".py",
   "mimetype": "text/x-python",
   "name": "python",
   "nbconvert_exporter": "python",
   "pygments_lexer": "ipython3",
   "version": "3.9.6"
  }
 },
 "nbformat": 4,
 "nbformat_minor": 2
}
