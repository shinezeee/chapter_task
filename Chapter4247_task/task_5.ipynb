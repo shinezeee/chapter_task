{
 "cells": [
  {
   "cell_type": "markdown",
   "metadata": {},
   "source": [
    "[문제]\n",
    "\n",
    "'Account' 클래스를 작성하세요. #1\n",
    "\n",
    "이 클래스는 소유자(owner)와 잔액(balance)을 속성으로 가지며, 잔액은 프라이빗 변수로 선언합니다. #2\n",
    "\n",
    "'deposit'와 'withdraw' 두 개의 메소드를 통해 잔액을 조작할 수 있도록 하세요. #3\n",
    "\n",
    "이 때, 잔액은 음수가 될 수 없도록 체크 #4 해야 합니다. \n",
    "\n",
    "'Account' 객체를 생성하고,\n",
    "\n",
    "입금 및 출금 작업을 시뮬레이션한 후, 최종 잔액을 출력하세요."
   ]
  },
  {
   "cell_type": "code",
   "execution_count": null,
   "metadata": {},
   "outputs": [],
   "source": [
    "#변수 이름 앞에 두 개의 밑줄(__)을 붙여 프라이빗 변수 선언\n",
    "# money = 입출금 금액 변수"
   ]
  },
  {
   "cell_type": "code",
   "execution_count": 10,
   "metadata": {},
   "outputs": [
    {
     "name": "stdout",
     "output_type": "stream",
     "text": [
      "3000원이 입금되었습니다.\n",
      "출금실패. 출금 금액을 확인해주세요: 10000원 (Error : 잔액부족)\n",
      "현재잔액 : 4000원\n"
     ]
    }
   ],
   "source": [
    "class Account : #1\n",
    "    def __init__(self,owner,balance): #2\n",
    "        self.owner = owner\n",
    "        self.__balance =balance\n",
    "    \n",
    "    # 입금\n",
    "    def deposit (self, money) : \n",
    "        if money > 0 :#4\n",
    "            self.__balance += money\n",
    "            print (f'{money}원이 입금되었습니다.')\n",
    "        else:\n",
    "            print(f'입금실패. 입금 금액을 확인해주세요: {money}원 (Error: 0 이하의 금액)')\n",
    "    # 출금\n",
    "    def withdraw (self, money):\n",
    "        if money > self.__balance : #첫번째 ! 출금금액이 잔액보다 크면 안됨\n",
    "            print (f'출금실패. 출금 금액을 확인해주세요: {money}원 (Error : 잔액부족)')\n",
    "        elif money > 0 : #0보다 크면 정상출금 \n",
    "            self.__balance -= money\n",
    "            print ((f'{money}원이 츌금되었습니다.'))\n",
    "        else :\n",
    "            print(f'출금실패. 출금 금액을 확인해주세요: {money}원 (Error: 0 이하의 금액)')\n",
    "\n",
    "    # 최종잔액\n",
    "    def get_balance(self) :\n",
    "        return f'현재잔액 : {self.__balance}원'\n",
    "\n",
    "account = Account(\"신혜지\",1000)\n",
    "account.deposit(3000)\n",
    "account.withdraw(10000)\n",
    "print(account.get_balance())\n"
   ]
  }
 ],
 "metadata": {
  "kernelspec": {
   "display_name": "Python 3",
   "language": "python",
   "name": "python3"
  },
  "language_info": {
   "codemirror_mode": {
    "name": "ipython",
    "version": 3
   },
   "file_extension": ".py",
   "mimetype": "text/x-python",
   "name": "python",
   "nbconvert_exporter": "python",
   "pygments_lexer": "ipython3",
   "version": "3.9.6"
  }
 },
 "nbformat": 4,
 "nbformat_minor": 2
}
