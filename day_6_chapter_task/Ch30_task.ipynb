{
 "cells": [
  {
   "cell_type": "markdown",
   "metadata": {},
   "source": [
    "팩토리얼을 계산하는 재귀 함수 factorial을 작성하세요."
   ]
  },
  {
   "cell_type": "code",
   "execution_count": null,
   "metadata": {},
   "outputs": [
    {
     "name": "stdout",
     "output_type": "stream",
     "text": [
      "720\n",
      "1! = 1\n"
     ]
    }
   ],
   "source": [
    "#팩토리얼 : 1부터 n 까지의 곱 계산 (n!)\n",
    "#시작하는 수에 그 보다 낮은 수를 차례로 곱하기\n",
    "# n * (n-1) * (n-2) * .... \n",
    " #단 , 1!=1 0!=1\n",
    "def factorial(n) :\n",
    "    if n==1 or n==0:\n",
    "        return 1\n",
    "    return n* factorial(n-1)\n",
    "\n",
    "print(factorial(6))\n",
    "\n",
    "\n",
    "number = int(input(\"팩토리얼을 계산할 숫자를 입력하세요 : \"))\n",
    "print (f'{number}! = {factorial(number)}')"
   ]
  },
  {
   "cell_type": "code",
   "execution_count": null,
   "metadata": {},
   "outputs": [],
   "source": []
  },
  {
   "cell_type": "code",
   "execution_count": null,
   "metadata": {},
   "outputs": [
    {
     "name": "stdout",
     "output_type": "stream",
     "text": [
      "720\n"
     ]
    }
   ],
   "source": [
    "# 반대로 생각하기 n! = n * (n+1) * (n+2) * (n+3).....\n",
    "    # 1부터 시작하기 \n",
    "def factorial(n) :\n",
    "    result =1 #시작숫자 1\n",
    "    for i in range(1,n+1):\n",
    "        result *= i  #result에 i 곱하기 반복\n",
    "    return result\n",
    "\n",
    "print(factorial(6))"
   ]
  },
  {
   "cell_type": "markdown",
   "metadata": {},
   "source": []
  }
 ],
 "metadata": {
  "kernelspec": {
   "display_name": "Python 3",
   "language": "python",
   "name": "python3"
  },
  "language_info": {
   "codemirror_mode": {
    "name": "ipython",
    "version": 3
   },
   "file_extension": ".py",
   "mimetype": "text/x-python",
   "name": "python",
   "nbconvert_exporter": "python",
   "pygments_lexer": "ipython3",
   "version": "3.9.6"
  }
 },
 "nbformat": 4,
 "nbformat_minor": 2
}
