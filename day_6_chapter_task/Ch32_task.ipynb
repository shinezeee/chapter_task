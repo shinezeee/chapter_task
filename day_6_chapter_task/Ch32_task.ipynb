{
 "cells": [
  {
   "cell_type": "markdown",
   "metadata": {},
   "source": [
    "두 문자열을 받아서 긴 문자열을 반환하는 함수 longer_string을 작성하세요. 만약 두 문자열의 길이가 같다면, 첫 번째 문자열을 반환하세요."
   ]
  },
  {
   "cell_type": "code",
   "execution_count": 5,
   "metadata": {},
   "outputs": [
    {
     "name": "stdout",
     "output_type": "stream",
     "text": [
      "shinezeee\n",
      "shinezeee\n",
      "shin\n"
     ]
    }
   ],
   "source": [
    "def longer_string(w1,w2):\n",
    "    if len(w1) >= len(w2) :\n",
    "        return w1\n",
    "    elif len(w1) <= len(w2):\n",
    "        return w2\n",
    "    else :\n",
    "        return w1\n",
    "    \n",
    "\n",
    "print(longer_string(\"shin\",\"shinezeee\"))\n",
    "print(longer_string(\"shinezeee\",\"shin\"))\n",
    "print(longer_string(\"shin\",\"shin\"))"
   ]
  },
  {
   "cell_type": "markdown",
   "metadata": {},
   "source": []
  }
 ],
 "metadata": {
  "kernelspec": {
   "display_name": "Python 3",
   "language": "python",
   "name": "python3"
  },
  "language_info": {
   "codemirror_mode": {
    "name": "ipython",
    "version": 3
   },
   "file_extension": ".py",
   "mimetype": "text/x-python",
   "name": "python",
   "nbconvert_exporter": "python",
   "pygments_lexer": "ipython3",
   "version": "3.9.6"
  }
 },
 "nbformat": 4,
 "nbformat_minor": 2
}
