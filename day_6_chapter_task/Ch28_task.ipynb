{
 "cells": [
  {
   "cell_type": "markdown",
   "metadata": {},
   "source": [
    "사용자로부터 3개의 숫자를 입력받아, 이를 튜플로 만든 후 최소값과 최대값을 출력하는 함수 min_max를 작성하세요."
   ]
  },
  {
   "cell_type": "code",
   "execution_count": 3,
   "metadata": {},
   "outputs": [
    {
     "name": "stdout",
     "output_type": "stream",
     "text": [
      "최소값 : 1 최대값 : 9\n"
     ]
    }
   ],
   "source": [
    "\n",
    "def min_max(*nums):\n",
    "    nums_tuple = tuple(nums)\n",
    "    print(\"최소값 :\",min(nums_tuple),\"최대값 :\",max(nums_tuple))\n",
    "\n",
    "\n",
    "min_max(5,1,9)"
   ]
  },
  {
   "cell_type": "markdown",
   "metadata": {},
   "source": []
  },
  {
   "cell_type": "code",
   "execution_count": 6,
   "metadata": {},
   "outputs": [
    {
     "name": "stdout",
     "output_type": "stream",
     "text": [
      "최소값: 2\n",
      "최대값: 90\n"
     ]
    }
   ],
   "source": [
    "def min_max(*nums):\n",
    "    # 최소값과 최대값을 출력\n",
    "    print(\"최소값:\", min(nums))\n",
    "    print(\"최대값:\", max(nums))\n",
    "\n",
    "# 사용자로부터 3개의 숫자를 입력받고 튜플로 변환\n",
    "numbers = input(\"3개의 숫자를 입력하세요 (공백으로 구분): \").split() #숫자 공백으로 나누기\n",
    "numbers = tuple(int(num) for num in numbers)  # 입력받은 값을 튜플로 변환\n",
    "\n",
    "# 함수 호출\n",
    "min_max(*numbers)"
   ]
  }
 ],
 "metadata": {
  "kernelspec": {
   "display_name": "Python 3",
   "language": "python",
   "name": "python3"
  },
  "language_info": {
   "codemirror_mode": {
    "name": "ipython",
    "version": 3
   },
   "file_extension": ".py",
   "mimetype": "text/x-python",
   "name": "python",
   "nbconvert_exporter": "python",
   "pygments_lexer": "ipython3",
   "version": "3.9.6"
  }
 },
 "nbformat": 4,
 "nbformat_minor": 2
}
