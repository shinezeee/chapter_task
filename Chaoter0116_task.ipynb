{
 "cells": [
  {
   "cell_type": "markdown",
   "metadata": {
    "id": "BX7SgOeWu86I"
   },
   "source": [
    "안녕하세요. 수강생 여러분~! \n",
    "\n",
    "다시 돌아온 조금 더 성장할 기 ! 회 ! \n",
    "\n",
    "Chapter01 ~ 16의 수업 내용을 바탕으로 아래 문제를 풀어주시면 됩니다 !\n",
    "\n",
    "지금까지 잘 해오셨으니까, 총 복습한다고 생각하시고 한번 도전해보세요 !!!\n",
    "\n",
    "차근 차근 문제와 요구사항을 읽고 작성해보세요.\n",
    "\n",
    "<br>\n",
    "\n",
    "\n",
    "[**답변 입력 방법**]\n",
    "\n",
    "문제 아래에 있는 코드 입력창에 정답코드를 작성하신 후  __▷ 버튼을 클릭해 코드를 실행__ 해보세요<br>"
   ]
  },
  {
   "cell_type": "markdown",
   "metadata": {},
   "source": [
    "---"
   ]
  },
  {
   "cell_type": "markdown",
   "metadata": {},
   "source": [
    "#### 프로젝트: 붕어빵 자동 판매 시스템\n",
    "\n",
    "\n",
    "당신은 붕어빵 가게의 주인입니다. \n",
    "\n",
    "손님들이 붕어빵을 주문하면 이를 자동으로 처리하고, 재고를 관리하는 시스템을 만들고자 합니다. \n",
    "\n",
    "또한, 관리자 모드를 통해 재고를 추가할 수 있는 기능을 구현해야 합니다.\n"
   ]
  },
  {
   "cell_type": "markdown",
   "metadata": {},
   "source": [
    "__[문제 1: 붕어빵 재고 확인]__\n",
    "\n",
    "붕어빵 가게의 현재 재고를 확인하는 기능을 구현하세요.\n",
    "\n",
    "요구사항:\n",
    "- 현재 붕어빵의 재고를 딕셔너리로 관리합니다.\n",
    "- 딕셔너리에는 붕어빵의 종류와 각각의 재고 개수가 저장됩니다.\n",
    "- 현재 재고를 화면에 출력하세요.\n",
    "\n",
    "붕어빵 재고\n",
    "- 팥붕어빵 : 10개\n",
    "- 슈크림붕어빵 : 8개\n",
    "- 초코붕어빵 : 5개"
   ]
  },
  {
   "cell_type": "code",
   "execution_count": null,
   "metadata": {},
   "outputs": [],
   "source": [
    "stock = {\n",
    "    '팥붕어빵':10,\n",
    "    '슈크림붕어빵':8,\n",
    "    '초코붕어빵':5\n",
    "}"
   ]
  },
  {
   "cell_type": "markdown",
   "metadata": {},
   "source": [
    "__[문제 2: 붕어빵 주문 받기]__\n",
    "\n",
    "손님이 주문한 붕어빵의 종류와 개수를 입력받는 기능을 구현하세요.\n",
    "\n",
    "요구사항:\n",
    "- 손님이 주문할 붕어빵의 종류와 개수를 입력받습니다.\n",
    "- 주문 내용을 딕셔너리에 저장하세요.\n",
    "- 주문 내역을 출력해주세요."
   ]
  },
  {
   "cell_type": "code",
   "execution_count": null,
   "metadata": {},
   "outputs": [],
   "source": [
    "# fishbread_type = 붕어빵 종류 \n",
    "# order_count = 주문한 수량\n",
    "# order [선택한붕어빵] = 주문한 수량 저장 "
   ]
  },
  {
   "cell_type": "code",
   "execution_count": 3,
   "metadata": {},
   "outputs": [
    {
     "name": "stdout",
     "output_type": "stream",
     "text": [
      "주문내역 : 팥붕어빵 4개\n"
     ]
    }
   ],
   "source": [
    "stock = {\n",
    "    '팥붕어빵':10,\n",
    "    '슈크림붕어빵':8,\n",
    "    '초코붕어빵':5\n",
    "}\n",
    "order = {} # 입력한 종류와 개수를 저장하기 위한 빈 딕셔너리 \n",
    "\n",
    "fishbread_type = input(\"주문할 붕어빵 종류를 입력하세요. [팥붕어빵],[슈크림붕어빵],[초코붕어빵] : \")\n",
    "order_count = int(input(\"주문할 수량을 입력하세요 : \"))\n",
    "order[fishbread_type]=order_count\n",
    "print(f'주문내역 : {fishbread_type} {order_count}개')"
   ]
  },
  {
   "cell_type": "markdown",
   "metadata": {},
   "source": [
    "__[문제 3: 붕어빵 주문 처리]__\n",
    "\n",
    "손님의 주문을 처리하여 붕어빵 재고를 업데이트하는 기능을 구현하세요.\n",
    "\n",
    "요구사항:\n",
    "- 손님의 주문 내용을 기반으로 재고를 업데이트합니다.\n",
    "- 재고가 부족할 경우, 손님에게 재고 부족을 알리고 재고를 감소시키지 않습니다.\n",
    "- 재고가 충분할 경우, 주문한 만큼 재고를 감소시키고 판매를 완료합니다.\n",
    "- 판매가 완료된 경우 판매된 붕어빵 맛과 개수를 출력하세요."
   ]
  },
  {
   "cell_type": "code",
   "execution_count": null,
   "metadata": {},
   "outputs": [
    {
     "name": "stdout",
     "output_type": "stream",
     "text": [
      "주문내역 : 초코붕어빵 6개\n",
      "죄송합니다. 초코붕어빵의 재고가 부족합니다.(남은수량 : 5)\n"
     ]
    }
   ],
   "source": [
    "stock = {\n",
    "    '팥붕어빵':10,\n",
    "    '슈크림붕어빵':8,\n",
    "    '초코붕어빵':5\n",
    "}\n",
    "order = {} # 입력한 종류와 개수를 저장하기 위한 빈 딕셔너리 \n",
    "# 손님의 주문 \n",
    "fishbread_type = input(\"주문할 붕어빵 종류를 입력하세요. [팥붕어빵],[슈크림붕어빵],[초코붕어빵] : \")\n",
    "order_count = int(input(\"주문할 수량을 입력하세요 : \"))\n",
    "order[fishbread_type]=order_count\n",
    "print(f'주문내역 : {fishbread_type} {order_count}개')\n",
    "\n",
    "if stock[fishbread_type] >= order_count : # 주문한 수량이 스톡의 재고보다 클수 없어!\n",
    "    stock[fishbread_type] -= order_count\n",
    "    print (f'주문 완료 :{fishbread_type} {order_count}개')\n",
    "else :\n",
    "    print (f'죄송합니다. {fishbread_type}의 재고가 부족합니다.(남은수량 : {stock[fishbread_type]}개)')\n"
   ]
  },
  {
   "cell_type": "markdown",
   "metadata": {},
   "source": [
    "__[문제 4: 여러 손님 주문 처리]__\n",
    "\n",
    "여러 손님들의 주문을 처리할 수 있도록 시스템을 확장하세요.\n",
    "\n",
    "요구사항:\n",
    "- 손님이 \"종료\"를 입력할 때까지 주문을 계속 받습니다.\n",
    "- 각 주문마다 재고를 업데이트합니다.\n",
    "- 현재 재고를 화면에 출력합니다."
   ]
  },
  {
   "cell_type": "code",
   "execution_count": null,
   "metadata": {},
   "outputs": [],
   "source": [
    "\n",
    "\n",
    "# 반복 코드 =  while -break\n",
    "# 종료 코드 만들기\n",
    "# 재고 업데이트 \n"
   ]
  },
  {
   "cell_type": "code",
   "execution_count": null,
   "metadata": {},
   "outputs": [
    {
     "name": "stdout",
     "output_type": "stream",
     "text": [
      "주문 완료 :슈크림붕어빵 4개\n",
      "주문내역 : 슈크림붕어빵 4개\n",
      "현재 붕어빵 재고 :\n",
      "팥붕어빵 : 10개\n",
      "슈크림붕어빵 : 4개\n",
      "초코붕어빵 : 5개\n"
     ]
    }
   ],
   "source": [
    "stock = {\n",
    "    '팥붕어빵':10,\n",
    "    '슈크림붕어빵':8,\n",
    "    '초코붕어빵':5\n",
    "}\n",
    "order = {} # 입력한 종류와 개수를 저장하기 위한 빈 딕셔너리 \n",
    "# 손님의 주문 \n",
    "while True :\n",
    "    fishbread_type = input(\"주문할 붕어빵 종류를 입력하세요. [팥붕어빵],[슈크림붕어빵],[초코붕어빵] . 종료를 원하시면 [종료]를 입력하세요 : \")\n",
    "    if fishbread_type == \"종료\" :\n",
    "        break #만약 너가 종료입력하면 멈출꺼셈\n",
    "    #하지만 그게아니라면?= 붕어빵입력하면?\n",
    "    else : #주문수량을 적어 !\n",
    "        order_count = int(input(\"주문할 수량을 입력하세요 : \"))\n",
    "    \n",
    "    if stock[fishbread_type] >= order_count : # 주문한 수량이 스톡의 재고보다 클수 없어!\n",
    "        stock[fishbread_type] -= order_count\n",
    "        print (f'주문 완료 :{fishbread_type} {order_count}개')\n",
    "    else :\n",
    "        print (f'죄송합니다. {fishbread_type}의 재고가 부족합니다.(남은수량 : {stock[fishbread_type]}개)')\n",
    "\n",
    "    order[fishbread_type]=order_count\n",
    "    print(f'주문내역 : {fishbread_type} {order_count}개')\n",
    "\n",
    "    print(f'-현재 붕어빵 재고-') # 스톡 남아있는 재고 출력\n",
    "    for bread, total in stock.items(): # 스톡안에 있는 모든 딕셔너리를  \n",
    "        print(f'{bread} : {total}개') #의 방식으로로 출력\n",
    "    break"
   ]
  },
  {
   "cell_type": "markdown",
   "metadata": {},
   "source": [
    "__[문제 5: 관리자 모드]__\n",
    "\n",
    "관리자 모드를 통해 붕어빵 재고를 추가할 수 있는 기능을 구현하세요.\n",
    "\n",
    "요구사항:\n",
    "- 관리자는 특정 붕어빵의 재고를 추가할 수 있습니다.\n",
    "- \"종료\"를 입력하면 관리자 모드를 종료합니다.\n",
    "- 추가된 재고를 업데이트하고 현재 재고를 화면에 출력합니다."
   ]
  },
  {
   "cell_type": "code",
   "execution_count": null,
   "metadata": {},
   "outputs": [],
   "source": []
  },
  {
   "cell_type": "code",
   "execution_count": null,
   "metadata": {},
   "outputs": [
    {
     "name": "stdout",
     "output_type": "stream",
     "text": [
      "주문 완료 :팥붕어빵 3개\n",
      "주문내역 : 팥붕어빵 3개\n",
      "-현재 붕어빵 재고-\n",
      "팥붕어빵 : 7개\n",
      "슈크림붕어빵 : 8개\n",
      "초코붕어빵 : 5개\n",
      "슈크림붕어빵 : 5개 추가 완료!\n",
      "-현재 붕어빵 재고-\n",
      "팥붕어빵 : 7개\n",
      "슈크림붕어빵 : 13개\n",
      "초코붕어빵 : 5개\n"
     ]
    }
   ],
   "source": [
    "stock = {\n",
    "    '팥붕어빵':10,\n",
    "    '슈크림붕어빵':8,\n",
    "    '초코붕어빵':5\n",
    "}\n",
    "order = {} # 입력한 종류와 개수를 저장하기 위한 빈 딕셔너리 \n",
    "# 손님의 주문 \n",
    "while True :\n",
    "    fishbread_type = input(\"주문할 붕어빵 종류를 입력하세요. [팥붕어빵],[슈크림붕어빵],[초코붕어빵] . 종료를 원하시면 [종료]를 입력하세요 : \")\n",
    "    if fishbread_type == \"종료\" :\n",
    "        break #만약 너가 종료입력하면 멈출꺼셈\n",
    "    #하지만 그게아니라면?= 붕어빵입력하면?\n",
    "    else : #주문수량을 적어 !\n",
    "        order_count = int(input(\"주문할 수량을 입력하세요 : \"))\n",
    "    \n",
    "    if stock[fishbread_type] >= order_count : # 주문한 수량이 스톡의 재고보다 클수 없어!\n",
    "        stock[fishbread_type] -= order_count\n",
    "        print (f'주문이 완료되었습니다 :{fishbread_type} {order_count}개')\n",
    "    else :\n",
    "        print (f'죄송합니다. {fishbread_type}의 재고가 부족합니다.(남은수량 : {stock[fishbread_type]}개)')\n",
    "\n",
    "    order[fishbread_type]=order_count\n",
    "    print(f'주문내역 : {fishbread_type} {order_count}개')\n",
    "\n",
    "    print(f'-현재 붕어빵 재고-') # 스톡 남아있는 재고 출력\n",
    "    for bread, total in stock.items(): # 스톡안에 있는 모든 딕셔너리를  \n",
    "        print(f'{bread} : {total}개') #의 방식으로로 출력\n",
    "    break\n",
    "\n",
    "# 관리자모드 : 붕어빵 재고 추가\n",
    "# 추가된 현재 재고 출력\n",
    "\n",
    "while True:\n",
    "    fishbread_type = input('추가할 붕어빵의 종류를 입력하세요 . [팥붕어빵],[슈크림붕어빵],[초코붕어빵] . 종료를 원하시면 [종료]를 입력하세요 : ')\n",
    "    if fishbread_type == \"종료\" :\n",
    "        break\n",
    "    add_count = int(input(f'{fishbread_type}의 추가할 수량을 입력하세요 : '))\n",
    "    stock[fishbread_type] += add_count\n",
    "    print (f'+ {fishbread_type} : {add_count}개 추가 완료!')\n",
    "    print(f'-현재 붕어빵 재고-') # 스톡 남아있는 재고 출력\n",
    "    for bread, total in stock.items(): # 스톡안에 있는 모든 딕셔너리를  \n",
    "        print(f'{bread} : {total}개') #의 방식으로로 출력\n",
    "    break\n"
   ]
  },
  {
   "cell_type": "markdown",
   "metadata": {},
   "source": [
    "__[문제 6: 매출 확인]__\n",
    "\n",
    "붕어빵 판매 가격을 설정하고, 판매한 붕어빵의 매출을 계산하세요.\n",
    "\n",
    "요구사항:\n",
    "- 각 붕어빵의 가격을 딕셔너리로 관리합니다.\n",
    "- 판매된 붕어빵의 종류와 개수를 딕셔너리로 관리합니다.\n",
    "- 총 매출을 계산하여 출력합니다.\n",
    "\n",
    "초기 설정:\n",
    "- 가격\n",
    "    - \"팥붕어빵\": 1000\n",
    "    - \"슈크림붕어빵\": 1200\n",
    "    - \"초코붕어빵\": 1500\n",
    "\n",
    "- 판매 개수\n",
    "    - \"팥붕어빵\": 0\n",
    "    - \"슈크림붕어빵\": 0\n",
    "    - \"초코붕어빵\": 0"
   ]
  },
  {
   "cell_type": "code",
   "execution_count": null,
   "metadata": {},
   "outputs": [],
   "source": []
  }
 ],
 "metadata": {
  "colab": {
   "authorship_tag": "ABX9TyMLQjyUmELFyKkx1AyovOFZ",
   "provenance": []
  },
  "kernelspec": {
   "display_name": "Python 3",
   "name": "python3"
  },
  "language_info": {
   "codemirror_mode": {
    "name": "ipython",
    "version": 3
   },
   "file_extension": ".py",
   "mimetype": "text/x-python",
   "name": "python",
   "nbconvert_exporter": "python",
   "pygments_lexer": "ipython3",
   "version": "3.9.6"
  }
 },
 "nbformat": 4,
 "nbformat_minor": 0
}
