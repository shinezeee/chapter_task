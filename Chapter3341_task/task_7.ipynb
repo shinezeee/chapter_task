{
 "cells": [
  {
   "cell_type": "markdown",
   "metadata": {},
   "source": [
    "함수 실행 시간을 측정하는 데코레이터 timer_decorator를 작성하세요. \n",
    "\n",
    "임의의 함수가 실행되는 시간을 측정하여 \"함수 실행 시간: x.xx초\" 형태로 출력하세요."
   ]
  },
  {
   "cell_type": "code",
   "execution_count": null,
   "metadata": {},
   "outputs": [
    {
     "name": "stdout",
     "output_type": "stream",
     "text": [
      "현재나이 :  31 살\n",
      "함수 실행 시간: 2.30초\n"
     ]
    }
   ],
   "source": [
    "import time\n",
    "\n",
    "def timer_decorator(func):\n",
    "    def wrapper(*args, **kwargs):\n",
    "        start_time = time.time() #1\n",
    "        result = func(*args, **kwargs) #main\n",
    "        end_time = time.time() #2\n",
    "        print(f\"함수 실행 시간: {end_time - start_time:.2f}초\") #3\n",
    "        return result\n",
    "    return wrapper\n",
    "\n",
    "from datetime import datetime \n",
    "\n",
    "\n",
    "@timer_decorator #<<\n",
    "\n",
    "def example_function(): #=main\n",
    "    now_time =datetime.now()\n",
    "    birth = int(input(\"태어난 년도 : \"))\n",
    "    age = now_time.year - birth\n",
    "    print (\"현재나이 : \",age,\"살\")\n",
    "example_function()"
   ]
  },
  {
   "cell_type": "markdown",
   "metadata": {},
   "source": []
  }
 ],
 "metadata": {
  "kernelspec": {
   "display_name": "Python 3",
   "language": "python",
   "name": "python3"
  },
  "language_info": {
   "codemirror_mode": {
    "name": "ipython",
    "version": 3
   },
   "file_extension": ".py",
   "mimetype": "text/x-python",
   "name": "python",
   "nbconvert_exporter": "python",
   "pygments_lexer": "ipython3",
   "version": "3.9.6"
  }
 },
 "nbformat": 4,
 "nbformat_minor": 2
}
