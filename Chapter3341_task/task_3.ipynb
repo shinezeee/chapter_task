{
 "cells": [
  {
   "cell_type": "markdown",
   "metadata": {},
   "source": [
    "사용자로부터 여러 개의 숫자를 입력받아 리스트에 저장한 후, 사용자가 'done'이라고 입력할 때까지 계속 입력받으세요. \n",
    "\n",
    "- 입력 중 숫자가 아닌 값이 입력되면 ValueError를 처리\n",
    "- 숫자 외 값이 입력된 경우 어떤 값이 잘못 입력되었는지 사용자에게 알려주는 문구 출력<br>\n",
    "  (예: f\"잘못된 값: {변수}. 숫자를 입력해주세요.\")\n",
    "\n"
   ]
  },
  {
   "cell_type": "code",
   "execution_count": null,
   "metadata": {},
   "outputs": [
    {
     "name": "stdout",
     "output_type": "stream",
     "text": [
      "입력된 숫자 리스트:  [1, 2, 3, 4, 5, 6, 7]\n"
     ]
    }
   ],
   "source": [
    "# 여러 숫자 저장 리스트 \n",
    "nums=[]\n",
    "# done 입력할 때까지 반복 => done 입력시 멈춤 =if\n",
    "while True :\n",
    "    try :\n",
    "        nums_list = input(\"숫자를 입력하세요. ('done'입력시 종료) : \")\n",
    "        if nums_list == \"done\": # 종료조건\n",
    "            break\n",
    "        nums.append (int(nums_list))  #입력값 리스트에 저장\n",
    "\n",
    "#숫자아닌값 입력시 알려주기 \n",
    " # f '잘못된 값 :{입력된값} . 숫자를 입력하세요.'\n",
    "    except ValueError :\n",
    "        print(f'잘못된 값 :{nums_list} . 숫자를 입력하세요.')\n",
    "\n",
    "print (\"입력된 숫자 리스트: \",nums)   # 입력된 리스트 결과 출력"
   ]
  },
  {
   "cell_type": "markdown",
   "metadata": {},
   "source": []
  }
 ],
 "metadata": {
  "kernelspec": {
   "display_name": "Python 3",
   "language": "python",
   "name": "python3"
  },
  "language_info": {
   "codemirror_mode": {
    "name": "ipython",
    "version": 3
   },
   "file_extension": ".py",
   "mimetype": "text/x-python",
   "name": "python",
   "nbconvert_exporter": "python",
   "pygments_lexer": "ipython3",
   "version": "3.9.6"
  }
 },
 "nbformat": 4,
 "nbformat_minor": 2
}
