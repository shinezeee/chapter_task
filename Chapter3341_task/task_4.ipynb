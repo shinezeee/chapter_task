{
 "cells": [
  {
   "cell_type": "markdown",
   "metadata": {},
   "source": [
    "사용자 정의 예외 NegativeNumberError를 생성하고, 사용자로부터 숫자를 입력받아 음수일 경우 NegativeNumberError를 발생시키는 프로그램을 작성하세요. \n",
    "\n",
    "- 예외 처리 구문을 사용하여 음수 입력 시 \"양수를 입력해주세요.\"라는 메시지를 출력"
   ]
  },
  {
   "cell_type": "code",
   "execution_count": null,
   "metadata": {},
   "outputs": [
    {
     "name": "stdout",
     "output_type": "stream",
     "text": [
      "잘못된 입력 :<class 'Exception'>는 음수입니다.\n"
     ]
    }
   ],
   "source": [
    "class NegativeNumberError(Exception) :\n",
    "    def __init__(self, num)-> None:\n",
    "        self.__context__ ()\n",
    "    def __str__(self) -> str:\n",
    "        return super().__str__()\n",
    "\n",
    "\n",
    "try : \n",
    "    num = int(input(\"숫자를 입력하세요 : \"))\n",
    "    if num <0 :\n",
    "        raise NegativeNumberError(Exception)\n",
    "    # 뒤에파이썬에러키워드 넣을 수 있음\n",
    "except NegativeNumberError as n :\n",
    "    print(n)\n"
   ]
  }
 ],
 "metadata": {
  "kernelspec": {
   "display_name": "Python 3",
   "language": "python",
   "name": "python3"
  },
  "language_info": {
   "codemirror_mode": {
    "name": "ipython",
    "version": 3
   },
   "file_extension": ".py",
   "mimetype": "text/x-python",
   "name": "python",
   "nbconvert_exporter": "python",
   "pygments_lexer": "ipython3",
   "version": "3.9.6"
  }
 },
 "nbformat": 4,
 "nbformat_minor": 2
}
