{
 "cells": [
  {
   "cell_type": "markdown",
   "metadata": {},
   "source": [
    "문자열 리스트를 받아, 각 문자열의 길이를 출력하는 함수 print_lengths를 작성하세요."
   ]
  },
  {
   "cell_type": "code",
   "execution_count": 7,
   "metadata": {},
   "outputs": [
    {
     "name": "stdout",
     "output_type": "stream",
     "text": [
      "python의 글자수는 6개 입니다.\n",
      "print의 글자수는 5개 입니다.\n",
      "string의 글자수는 6개 입니다.\n",
      "010의 글자수는 3개 입니다.\n",
      "0000의 글자수는 4개 입니다.\n",
      "0000의 글자수는 4개 입니다.\n"
     ]
    }
   ],
   "source": [
    "def print_lengths(strings) :\n",
    "    for string in (strings) :\n",
    "        print (f'{string}의 글자수는 {len(string)}개 입니다.') \n",
    "\n",
    "print_lengths(['python','print','string'])\n",
    "\n",
    "string_list = input(\"글자를 입력하세요 (공백으로 구분):\").split() #문자열 리스트로 변환!!!!!!!잊지말긔!!!!!\n",
    "print_lengths(string_list)"
   ]
  },
  {
   "cell_type": "markdown",
   "metadata": {},
   "source": []
  }
 ],
 "metadata": {
  "kernelspec": {
   "display_name": "Python 3",
   "language": "python",
   "name": "python3"
  },
  "language_info": {
   "codemirror_mode": {
    "name": "ipython",
    "version": 3
   },
   "file_extension": ".py",
   "mimetype": "text/x-python",
   "name": "python",
   "nbconvert_exporter": "python",
   "pygments_lexer": "ipython3",
   "version": "3.9.6"
  }
 },
 "nbformat": 4,
 "nbformat_minor": 2
}
