{
  "cells": [
    {
      "cell_type": "markdown",
      "metadata": {
        "id": "RoTPvAdK8Hoo"
      },
      "source": [
        "사용자로부터 이름과 나이를 입력 받아, \"안녕하세요, [이름]님! 당신은 [나이]살입니다.\"라고 출력하는 함수 greet_user를 작성하세요."
      ]
    },
    {
      "cell_type": "markdown",
      "metadata": {
        "id": "2rcxWsBt8Hoo"
      },
      "source": []
    },
    {
      "cell_type": "code",
      "source": [
        "def greet_user(name,age) :\n",
        "  print(f'안녕하세요, {name}님! 당신은 {age}살 입니다.')\n",
        "\n",
        "greet_user ('혜지','32')"
      ],
      "metadata": {
        "colab": {
          "base_uri": "https://localhost:8080/"
        },
        "id": "LTyqXisw8bCa",
        "outputId": "e498a47a-ce09-494b-a9df-c7511f05f1da"
      },
      "execution_count": 2,
      "outputs": [
        {
          "output_type": "stream",
          "name": "stdout",
          "text": [
            "안녕하세요, 혜지님! 당신은 32살 입니다.\n"
          ]
        }
      ]
    }
  ],
  "metadata": {
    "language_info": {
      "name": "python"
    },
    "colab": {
      "provenance": []
    },
    "kernelspec": {
      "name": "python3",
      "display_name": "Python 3"
    }
  },
  "nbformat": 4,
  "nbformat_minor": 0
}