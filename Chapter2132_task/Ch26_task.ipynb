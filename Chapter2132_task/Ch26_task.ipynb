{
 "cells": [
  {
   "cell_type": "markdown",
   "metadata": {},
   "source": [
    "0부터 시작하여 n까지의 숫자 중에서 홀수만 생성하는 제너레이터 odd_numbers를 작성하세요."
   ]
  },
  {
   "cell_type": "code",
   "execution_count": null,
   "metadata": {},
   "outputs": [
    {
     "name": "stdout",
     "output_type": "stream",
     "text": [
      "1 3 5 7 9 11 13 15 17 19 "
     ]
    }
   ],
   "source": [
    "def odd_numbers(n):\n",
    "    for num in range(n):\n",
    "        if num %2 !=0 :\n",
    "            yield num  #return을 쓰면 첫값 1만 반환하고 함수 끝나버림쓰. 끝났으니까 아무것도 못함;;\n",
    "        \n",
    "for odd in odd_numbers(20) :\n",
    "    print(odd,end=\" \")"
   ]
  },
  {
   "cell_type": "markdown",
   "metadata": {},
   "source": [
    "yield의 기본 개념\n",
    "\n",
    "\treturn과 차이점:\n",
    "\t•\treturn은 함수를 종료하고 값을 반환\n",
    "\t•\tyield는 함수의 실행 상태를 멈추고 값을 반환한 후, 호출자가 다시 요청하면 중단된 위치에서 실행을 재개\n",
    "\t\t- 값을 한 주고 잠깐멈춤 - 다음값 줄 차례 되면 다시 그다음부터 실행\n",
    "yield는 값을 하나씩 주면서 함수가 멈추지 않고, “필요하면 또 줄게!“라고 계속 준비태세\n"
   ]
  }
 ],
 "metadata": {
  "kernelspec": {
   "display_name": "Python 3",
   "language": "python",
   "name": "python3"
  },
  "language_info": {
   "codemirror_mode": {
    "name": "ipython",
    "version": 3
   },
   "file_extension": ".py",
   "mimetype": "text/x-python",
   "name": "python",
   "nbconvert_exporter": "python",
   "pygments_lexer": "ipython3",
   "version": "3.9.6"
  }
 },
 "nbformat": 4,
 "nbformat_minor": 2
}
